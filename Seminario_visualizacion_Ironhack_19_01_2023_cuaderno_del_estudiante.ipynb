{
 "cells": [
  {
   "attachments": {},
   "cell_type": "markdown",
   "metadata": {},
   "source": [
    "# Seminario «Fundamentales de visualización en Python» <a name=\"introduction\"></a>\n",
    "\n",
    "\n",
    "\n",
    "\n"
   ]
  },
  {
   "attachments": {},
   "cell_type": "markdown",
   "metadata": {},
   "source": [
    "## Índice de contenidos\n",
    "\n",
    "1. Matplotlib\n",
    "2. Seaborn\n",
    "3. Plotly Express\n",
    "4. Missingno\n",
    "5. Ejercicios"
   ]
  },
  {
   "attachments": {},
   "cell_type": "markdown",
   "metadata": {},
   "source": [
    "# Matplotlib\n",
    "\n",
    "Matplotlib es la librería más básica para visualización en Python."
   ]
  },
  {
   "cell_type": "code",
   "execution_count": null,
   "metadata": {},
   "outputs": [],
   "source": [
    "# Importar matplotlib\n",
    "import matplotlib.pyplot as plt\n",
    "\n",
    "# Importar modulos básicos\n",
    "import pandas as pd\n",
    "import numpy as np"
   ]
  },
  {
   "cell_type": "code",
   "execution_count": null,
   "metadata": {},
   "outputs": [],
   "source": [
    "# Importar datos\n",
    "datos = pd.read_csv('https://raw.githubusercontent.com/jgchaparro/visualizacion_ironhack_19_01_2023/main/Datasets/PIB%20per%20capita%20largo%20(d%C3%B3lares%20de%202010).csv')\n",
    "\n",
    "# Utilizar datos de España\n",
    "españa = datos[datos['country'] == 'Spain']\n",
    "españa.head(5)"
   ]
  },
  {
   "attachments": {},
   "cell_type": "markdown",
   "metadata": {},
   "source": [
    "## Partes de una imagen en matplotlib.pyplot\n",
    "\n",
    "Cada imagen tiene tres partes principales:\n",
    "* Figure: la imagen en su conjunto.\n",
    "* Axes: cada una de las cajas que contienen gráficas.\n",
    "* Axis: ejes vertical y horizontal.\n",
    "\n",
    "![Figure and axes](https://raw.githubusercontent.com/jgchaparro/visualizacion_ironhack_19_01_2023/main/img/matplolib_figure_and_axes.png \"Figure and axes\")\n",
    "\n",
    "Otros objetos menores, aunque bastante usados, son los títulos, las etiquetas (labels) o los ticks. Cada gráfica cuenta con multitud de objetos personalizables.\n",
    "\n",
    "![Figure anatomy](https://raw.githubusercontent.com/jgchaparro/visualizacion_ironhack_19_01_2023/main/img/matplotlib_figure_anatomy.png 'Figure anatomy')"
   ]
  },
  {
   "attachments": {},
   "cell_type": "markdown",
   "metadata": {},
   "source": [
    "### Formas de crear gráficos\n",
    "\n",
    "Matplotlib cuenta con dos métodos para crear los gráficos. La sintaxis concreta dependerá de que se use uno u otro.\n",
    "\n",
    "- **Método explícito, orientado a objetos**: algo más lento de escribir, pero aporta más control y replica el comportamiento de otros objetos de Matplotlib. Recomendado para visualizaciones más complejas o detalladas.\n",
    "\n",
    "Algunos objetos de Matplotlib son los siguientes:\n",
    "\n",
    "- Figure\n",
    "- Artist\n",
    "- Axes\n",
    "- Axis\n",
    "- Text\n",
    "- Polygon"
   ]
  },
  {
   "cell_type": "code",
   "execution_count": null,
   "metadata": {},
   "outputs": [],
   "source": [
    "..."
   ]
  },
  {
   "attachments": {},
   "cell_type": "markdown",
   "metadata": {},
   "source": [
    "- **Método implícito de Pyplot**: más rápido y compacto. Recomendado para plots simples."
   ]
  },
  {
   "cell_type": "code",
   "execution_count": null,
   "metadata": {},
   "outputs": [],
   "source": [
    "..."
   ]
  },
  {
   "attachments": {},
   "cell_type": "markdown",
   "metadata": {},
   "source": [
    "Recuerda añadir `;` al final de la última línea para evitar que se imprima el objeto y dar un aspecto más limpio."
   ]
  },
  {
   "cell_type": "code",
   "execution_count": null,
   "metadata": {},
   "outputs": [],
   "source": [
    "plt.plot([1, 2, 3, 5])"
   ]
  },
  {
   "attachments": {},
   "cell_type": "markdown",
   "metadata": {},
   "source": [
    "## Personalizando los gráficos\n",
    "\n",
    "### Básicos\n",
    "\n",
    "Matplotlib ofrece multitud de argumentos para personalizar el gráfico que deben pasarse como kwargs al crear el gráfico. Cada gráfico tiene su lista de argumentos particular, aunque muchos se comparten."
   ]
  },
  {
   "cell_type": "code",
   "execution_count": null,
   "metadata": {},
   "outputs": [],
   "source": [
    "plt.figure(figsize = (10, 5))\n",
    "\n",
    "# Añade transparencia\n",
    "plt.plot('year', 'value', data = españa[españa['year'].between(1960, 1970)], )\n",
    "\n",
    "# Cambia el color a rojo\n",
    "plt.plot('year', 'value', data = españa[españa['year'].between(1970, 1980)], )\n",
    "# Utiliza un código de color hexadecimal\n",
    "plt.plot('year', 'value', data = españa[españa['year'].between(1970, 1980)], ) # Color rojo\n",
    "\n",
    "# Cambia el tipo de línea\n",
    "plt.plot('year', 'value', data = españa[españa['year'].between(1980, 1990)], )\n",
    "\n",
    "# Cambia el grosor de la línea\n",
    "plt.plot('year', 'value', data = españa[españa['year'].between(1990, 2000)], )\n",
    "\n",
    "plt.xlabel('Año')\n",
    "plt.ylabel('PIB per cápita');"
   ]
  },
  {
   "attachments": {},
   "cell_type": "markdown",
   "metadata": {},
   "source": [
    "#### Limitar el rango del gráfico"
   ]
  },
  {
   "cell_type": "code",
   "execution_count": null,
   "metadata": {},
   "outputs": [],
   "source": [
    "fig, ax = plt.subplots(figsize = (10, 5))\n",
    "ax.plot('year', 'value', data = españa)\n",
    "\n",
    "# Límite horizontal\n",
    "...\n",
    "\n",
    "# Límite vertical\n",
    "...\n",
    "\n",
    "# Fijar ambos límites a la vez\n",
    "..."
   ]
  },
  {
   "attachments": {},
   "cell_type": "markdown",
   "metadata": {},
   "source": [
    "#### Modificar los ticks"
   ]
  },
  {
   "cell_type": "code",
   "execution_count": null,
   "metadata": {},
   "outputs": [],
   "source": [
    "fig, ax = plt.subplots(figsize = (10, 5))\n",
    "ax.plot('year', 'value', data = españa)\n",
    "\n",
    "# Cambiar los ticks horizontales\n",
    "...\n",
    "\n",
    "# Ticks verticales\n",
    "...\n",
    "\n",
    "# Ocultar los ticks\n",
    "..."
   ]
  },
  {
   "attachments": {},
   "cell_type": "markdown",
   "metadata": {},
   "source": [
    "#### Añadir títulos y leyendas"
   ]
  },
  {
   "cell_type": "code",
   "execution_count": null,
   "metadata": {},
   "outputs": [],
   "source": [
    "fig, ax = plt.subplots(figsize = (10, 5))\n",
    "line, = ax.plot('year', 'value', data = españa, color = 'darkblue', linewidth = 2)\n",
    "\n",
    "# Título general\n",
    "...\n",
    "\n",
    "# Añadir leyenda\n",
    "...\n",
    "\n",
    "# Título en el eje horizontal\n",
    "...\n",
    "\n",
    "# Título en el eje horizontal vertical\n",
    "..."
   ]
  },
  {
   "cell_type": "markdown",
   "metadata": {},
   "source": [
    "#### Guardar imagen"
   ]
  },
  {
   "cell_type": "code",
   "execution_count": null,
   "metadata": {},
   "outputs": [],
   "source": [
    "fig.savefig(\n",
    "    'imagen_de_ejemplo.png', \n",
    "    transparent = True # Usar fondo transparente\n",
    "    )"
   ]
  },
  {
   "attachments": {},
   "cell_type": "markdown",
   "metadata": {},
   "source": [
    "### Otras modificaciones\n"
   ]
  },
  {
   "cell_type": "markdown",
   "metadata": {},
   "source": [
    "#### Modificar el fondo y los bordes del gráfico"
   ]
  },
  {
   "cell_type": "code",
   "execution_count": null,
   "metadata": {},
   "outputs": [],
   "source": [
    "fig, ax = plt.subplots(\n",
    "    figsize = (10, 5), \n",
    "    facecolor = 'yellow',\n",
    "    edgecolor = 'blue', # Borde de la imagen\n",
    "    linewidth = 10 # Grosor del borde\n",
    "    ) \n",
    "ax.plot('year', 'value', data = españa);"
   ]
  },
  {
   "cell_type": "markdown",
   "metadata": {},
   "source": [
    "#### Añadir líneas"
   ]
  },
  {
   "cell_type": "code",
   "execution_count": null,
   "metadata": {},
   "outputs": [],
   "source": [
    "fig, ax = plt.subplots(figsize = (10, 5))\n",
    "line, = ax.plot('year', 'value', data = españa, color = 'darkblue', linewidth = 2)\n",
    "\n",
    "# Añade una línea horizontal\n",
    "ax.axhline(10000, \n",
    "    color = 'red', \n",
    "    linestyle = '-', \n",
    "    alpha = 0.5, \n",
    "    xmin = 0.1, # Punto de inicio como proporción del gráfico\n",
    "    xmax = 0.9, # Punto final como proporción del gráfico\n",
    "    marker = 'P', # Marcador para el borde de la línea\n",
    "    markersize = 9, # Tamaño del marcador\n",
    "    fillstyle = 'top' # Relleno del marcador\n",
    "    )\n",
    "\n",
    "# Añade una línea vertical\n",
    "ax.axvline(1976, color = 'green', alpha = 0.5);"
   ]
  },
  {
   "cell_type": "markdown",
   "metadata": {},
   "source": [
    "#### Añadir texto, flechas y rejillas"
   ]
  },
  {
   "cell_type": "code",
   "execution_count": null,
   "metadata": {},
   "outputs": [],
   "source": [
    "fig, ax = plt.subplots(figsize = (10, 5))\n",
    "line, = ax.plot('year', 'value', data = españa, color = 'darkblue', linewidth = 2)\n",
    "\n",
    "# Añade texto al gráfico\n",
    "ax.text(1977, 16000, '1976: 14 350 $')\n",
    "\n",
    "# Anotación con flecha\n",
    "ax.annotate(\n",
    "    '1995: 20 000 $', \n",
    "    xy = (1995, 20000), # ¿A dónde apunta la flecha?\n",
    "    arrowprops = {'facecolor' : 'black'}, # Características de la flecha \n",
    "    xytext = (1995, 10000), xycoords = 'data' # ¿Dónde se coloca el texto?\n",
    "    )\n",
    "\n",
    "# Añade una rejilla\n",
    "ax.grid(True, linestyle = '--')"
   ]
  },
  {
   "attachments": {},
   "cell_type": "markdown",
   "metadata": {},
   "source": [
    "## Gráficos básicos en Matplotlib"
   ]
  },
  {
   "attachments": {},
   "cell_type": "markdown",
   "metadata": {},
   "source": [
    "### Gráfico de barras (barplot)"
   ]
  },
  {
   "cell_type": "code",
   "execution_count": null,
   "metadata": {},
   "outputs": [],
   "source": [
    "fig, ax = plt.subplots(figsize = (10, 5))\n",
    "\n",
    "# Seleccionar países\n",
    "paises = ['Spain', 'Portugal', 'France', 'Germany', 'Italy']\n",
    "seleccion = datos[(datos['year'] == 2020) & (datos['country'].isin(paises))]\n",
    "\n",
    "colores = ['black', 'yellow', 'blue', 'red', 'green']\n",
    "\n",
    "# Crear gráfico\n",
    "...\n",
    "ax.set_title('PIB per capita en 2020 para países seleccionados');"
   ]
  },
  {
   "cell_type": "code",
   "execution_count": null,
   "metadata": {},
   "outputs": [],
   "source": [
    "# Gráfico de barras horizontal\n",
    "# Útil cuando hay muchas etiquetas y largas\n",
    "fig, ax = plt.subplots(figsize = (10, 5))\n",
    "\n",
    "# Crear gráfico\n",
    "...\n",
    "ax.set_title('PIB per capita en 2020 para países seleccionados');"
   ]
  },
  {
   "attachments": {},
   "cell_type": "markdown",
   "metadata": {},
   "source": [
    "### Interpretación de un boxplot\n",
    "\n",
    "\n",
    "![Interpretación de un boxplot](https://raw.githubusercontent.com/jgchaparro/visualizacion_ironhack_19_01_2023/main/img/matplotlib_boxplot_interpretation.png \"Figure and axes\")"
   ]
  },
  {
   "cell_type": "code",
   "execution_count": null,
   "metadata": {},
   "outputs": [],
   "source": [
    "# Elegir países\n",
    "europa_occidental = ['Spain', 'Portugal', 'France', 'Germany', 'Italy', 'United Kingdom']\n",
    "europa_oriental = ['Greece', 'Romania', 'Bulgaria', 'Poland', 'Hungary', 'Slovakia', 'Albania']\n",
    "\n",
    "# Extraer información para esos países\n",
    "pib_occidental = datos[(datos['year'] == 2020) & (datos['country'].isin(europa_occidental))]['value'].values\n",
    "pib_oriental = datos[(datos['year'] == 2020) & (datos['country'].isin(europa_oriental))]['value'].values\n",
    "\n",
    "# Incluir ambas listas de información en una sola lista\n",
    "# El boxplot exige que estén en una sola lista (lista de listas)\n",
    "pib_europa = [pib_occidental, pib_oriental]\n",
    "\n",
    "# Crea el boxplot\n",
    "fig, ax = plt.subplots(figsize = (5, 5))\n",
    "...\n",
    "ax.set_title('PIB per capita en Europa occidental y oriental')\n",
    "ax.set_xticklabels(['Europa occidental', 'Europa oriental']);"
   ]
  },
  {
   "cell_type": "markdown",
   "metadata": {},
   "source": [
    "### Histograma\n"
   ]
  },
  {
   "cell_type": "code",
   "execution_count": null,
   "metadata": {},
   "outputs": [],
   "source": [
    "# Obtener datos para todos los países en 2020\n",
    "datos_2020 = datos[datos['year'] == 2020]\n",
    "pib_2020 = datos_2020['value']\n",
    "\n",
    "# Seleccionar países con un PIB per cápita de menos de 20 000 dólares\n",
    "pib_2020_seleccion = list(filter(lambda x: x < 20000, pib_2020))\n",
    "\n",
    "# Crear el histograma\n",
    "fig, ax = plt.subplots(figsize = (10, 5))\n",
    "...\n",
    "ax.set_title('PIB de países en desarrollo en 2020')\n",
    "ax.set_ylabel('Número de países')\n",
    "ax.set_xlabel('Dólares internacionales');"
   ]
  },
  {
   "cell_type": "markdown",
   "metadata": {},
   "source": [
    "#### Gráfico de violín (violinplot)\n",
    "\n",
    "Similar a un boxplot, pero mostrando la distribución"
   ]
  },
  {
   "cell_type": "code",
   "execution_count": null,
   "metadata": {},
   "outputs": [],
   "source": [
    "# Datos para todos los países en desarrollo en 2020\n",
    "pib_2020 = datos[(datos['year'] == 2020) & (datos['value'] < 15000)]['value']\n",
    "\n",
    "# Crea el boxplot\n",
    "fig, ax = plt.subplots(figsize = (5, 5))\n",
    "...\n",
    "ax.set_title('PIB de países en desarrollo en el 2020')\n",
    "ax.set_ylabel('Dólares internacionales')\n",
    "ax.set(xticklabels = []);"
   ]
  },
  {
   "attachments": {},
   "cell_type": "markdown",
   "metadata": {},
   "source": [
    "### Gráfico circular (pie chart)\n",
    "\n",
    "[Piensa primero si usar un gráfico circular es buena idea](https://www.data-to-viz.com/caveat/pie.html)"
   ]
  },
  {
   "cell_type": "code",
   "execution_count": null,
   "metadata": {},
   "outputs": [],
   "source": [
    "# Datos sobre PIB en los países del G7\n",
    "g7 = ['Germany', 'Italy', 'United States', 'United Kingdom', 'Japan', 'France', 'Canada']\n",
    "\n",
    "pib_g7 = {\n",
    "        pais : datos[(datos['year'] == 2020) & (datos['country'] == pais)]['value'].iloc[0] for pais in g7\n",
    "}\n",
    "\n",
    "# Crear el gráfico circular\n",
    "# Importante: ¡utiliza el argumento 'facecolor' o el fondo será transparente!\n",
    "fig, ax = plt.subplots(figsize = (10, 5), facecolor = 'white')\n",
    "...\n",
    "ax.set_title('PIB per cápita aportado por cada país del G7 en 2020')\n",
    "ax.axis('equal');"
   ]
  },
  {
   "attachments": {},
   "cell_type": "markdown",
   "metadata": {},
   "source": [
    "### Gráficos extra"
   ]
  },
  {
   "cell_type": "markdown",
   "metadata": {},
   "source": [
    "#### Gráfico de barras apilado"
   ]
  },
  {
   "cell_type": "code",
   "execution_count": null,
   "metadata": {},
   "outputs": [],
   "source": [
    "fig, ax = plt.subplots(figsize = (3, 5))\n",
    "\n",
    "etiquetas = ['2010', '2020']\n",
    "españa = datos[(datos['year'].isin([2010, 2020])) & (datos['country'] == 'Spain')]\n",
    "portugal = datos[(datos['year'].isin([2010, 2020])) & (datos['country'] == 'Portugal')]\n",
    "\n",
    "...\n",
    "...\n",
    "\n",
    "ax.set_title('PIB en Portugal y España')\n",
    "ax.legend(loc = 'lower center');"
   ]
  },
  {
   "cell_type": "markdown",
   "metadata": {},
   "source": [
    "#### Gráfico de área apilado"
   ]
  },
  {
   "cell_type": "code",
   "execution_count": null,
   "metadata": {},
   "outputs": [],
   "source": [
    "fig, ax = plt.subplots(figsize = (10, 5))\n",
    "\n",
    "años = [i for i in range(2010, 2021)]\n",
    "valores = {\n",
    "    'España' : datos[(datos['year'].between(2010, 2020)) & (datos['country'] == 'Spain')]['value'],\n",
    "    'Portugal' : datos[(datos['year'].between(2010, 2020)) & (datos['country'] == 'Portugal')]['value']\n",
    "}\n",
    " \n",
    "...\n",
    "...\n",
    "\n",
    "ax.set_title('PIB en Portugal y España')\n",
    "ax.legend(loc = 'upper left');"
   ]
  },
  {
   "attachments": {},
   "cell_type": "markdown",
   "metadata": {},
   "source": [
    "## Gráficos multiples en una sola imagen (subplots)"
   ]
  },
  {
   "cell_type": "markdown",
   "metadata": {},
   "source": [
    "#### Subplots básicos"
   ]
  },
  {
   "cell_type": "code",
   "execution_count": null,
   "metadata": {},
   "outputs": [],
   "source": [
    "n_filas = 3\n",
    "n_columnas = 2\n",
    "\n",
    "# Crear los subplots\n",
    "...\n",
    "\n",
    "# Utiliza tight layout para evitar superposiciones\n",
    "..."
   ]
  },
  {
   "cell_type": "markdown",
   "metadata": {},
   "source": [
    "#### Modificando subplots"
   ]
  },
  {
   "cell_type": "code",
   "execution_count": null,
   "metadata": {},
   "outputs": [],
   "source": [
    "n_filas = 3\n",
    "n_columnas = 2\n",
    "\n",
    "# Crear los subplots\n",
    "...\n",
    " \n",
    "...\n",
    "\n",
    "# Cambiar uno de los gráficos\n",
    "...\n",
    "\n",
    "# Poner un título común\n",
    "...\n"
   ]
  },
  {
   "attachments": {},
   "cell_type": "markdown",
   "metadata": {},
   "source": [
    "### Gráficos múltiples avanzados: mosaicos con subplots\n",
    "\n",
    "Es posible generar composiciones complejas pasando una cadena de texto con números en la disposición deseada."
   ]
  },
  {
   "attachments": {},
   "cell_type": "markdown",
   "metadata": {},
   "source": [
    "#### Mosaico con subplots"
   ]
  },
  {
   "cell_type": "code",
   "execution_count": null,
   "metadata": {},
   "outputs": [],
   "source": [
    "mosaico_simple = \"\"\"\n",
    "112\n",
    "332\n",
    "\"\"\"\n",
    "\n",
    "fig, axs = plt.subplot_mosaic(mosaico_simple, layout = 'constrained')\n",
    "fig.suptitle('Mosaico simple');"
   ]
  },
  {
   "cell_type": "code",
   "execution_count": null,
   "metadata": {},
   "outputs": [],
   "source": [
    "mosaico_complejo = \"\"\"\n",
    "11222\n",
    "33222\n",
    "45555\n",
    "\"\"\"\n",
    "\n",
    "fig, axs = plt.subplot_mosaic(mosaico_complejo, layout = 'constrained')\n",
    "fig.suptitle('Mosaico complejo');"
   ]
  },
  {
   "attachments": {},
   "cell_type": "markdown",
   "metadata": {},
   "source": [
    "## Extras"
   ]
  },
  {
   "attachments": {},
   "cell_type": "markdown",
   "metadata": {},
   "source": [
    "### Ajustes por defecto\n",
    "\n",
    "Los rc (runtime configuration) settings son un diccionario que contiene los ajustes por defecto para la visualización de los gráficos. A diferencia de la mayoría de objetos utilizados aquí, este diccionario se debe importar del modulo matplotlib y no matplotlib.pyplot."
   ]
  },
  {
   "cell_type": "code",
   "execution_count": null,
   "metadata": {},
   "outputs": [],
   "source": [
    "# Importar matplotlib\n",
    "import matplotlib as mpl\n",
    "\n",
    "mpl.rcParams['lines.linestyle'] = ':'\n",
    "\n",
    "# Restaurar los parámetros por defecto\n",
    "mpl.rcParams.update(mpl.rcParamsDefault)"
   ]
  },
  {
   "attachments": {},
   "cell_type": "markdown",
   "metadata": {},
   "source": [
    "### Estilos"
   ]
  },
  {
   "attachments": {},
   "cell_type": "markdown",
   "metadata": {},
   "source": [
    "Los estilos modifican los parámetros por defecto contenidos en rcParams.\n",
    "\n",
    "[Lista completa de estilos](https://matplotlib.org/stable/gallery/style_sheets/style_sheets_reference.html)"
   ]
  },
  {
   "cell_type": "code",
   "execution_count": null,
   "metadata": {},
   "outputs": [],
   "source": [
    "# Mostrar estilos disponibles\n",
    "styles = plt.style.available\n",
    "print(styles[:5])\n",
    "\n",
    "# Activar un estilo\n",
    "plt.style.use('dark_background')\n",
    "\n",
    "plt.plot('year', 'value', data = españa)\n",
    "\n",
    "# Resetear al estilo por defecto\n",
    "mpl.rcParams.update(mpl.rcParamsDefault);"
   ]
  },
  {
   "cell_type": "markdown",
   "metadata": {},
   "source": [
    "## Casos prácticos con Matplotlib"
   ]
  },
  {
   "cell_type": "code",
   "execution_count": null,
   "metadata": {},
   "outputs": [],
   "source": [
    "# Visualizar los datos\n",
    "españa.head()"
   ]
  },
  {
   "attachments": {},
   "cell_type": "markdown",
   "metadata": {},
   "source": [
    "### 1) Muestra el PIB de España con un gráfico de línea\n",
    "\n",
    "- Usa la variable `datos`\n",
    "\n",
    "Ejemplo de solucción:\n",
    "\n",
    "<center> <img src=https://raw.githubusercontent.com/jgchaparro/visualizacion_ironhack_19_01_2023/main/img/exercise_solutions/matplotlib_ex_1.png> </img></center>"
   ]
  },
  {
   "cell_type": "code",
   "execution_count": null,
   "metadata": {},
   "outputs": [],
   "source": [
    "datos = españa\n",
    "\n",
    "..."
   ]
  },
  {
   "attachments": {},
   "cell_type": "markdown",
   "metadata": {},
   "source": [
    "### 2) Muestra el PIB de España con un gráfico de barras\n",
    "\n",
    "- Usa la variable `datos`\n",
    "- Cambia el color de las barras a rojo\n",
    "\n",
    "Ejemplo de solucción:\n",
    "\n",
    "<center> <img src=https://raw.githubusercontent.com/jgchaparro/visualizacion_ironhack_19_01_2023/main/img/exercise_solutions/matplotlib_ex_2.png> </img></center>"
   ]
  },
  {
   "cell_type": "code",
   "execution_count": null,
   "metadata": {},
   "outputs": [],
   "source": [
    "datos = españa\n",
    "\n",
    "..."
   ]
  },
  {
   "attachments": {},
   "cell_type": "markdown",
   "metadata": {},
   "source": [
    "#### 3) Une los dos gráficos anteriores en subplots\n",
    "\n",
    "- Usa las variables `datos_pre_1976` y `datos_post_1976`\n",
    "- Crea una imagen con 4 subplots: 2 por fila y 2 por columna.\n",
    "- Los gráficos de la primera columna deben ir en naranja; los de la segunda, en naranja.\n",
    "\n",
    "Ejemplo de solucción:\n",
    "\n",
    "<center> <img src=https://raw.githubusercontent.com/jgchaparro/visualizacion_ironhack_19_01_2023/main/img/exercise_solutions/matplotlib_ex_3.png> </img></center>"
   ]
  },
  {
   "cell_type": "code",
   "execution_count": null,
   "metadata": {},
   "outputs": [],
   "source": [
    "datos_pre_1976 = españa[españa['year'] <= 1976].copy()\n",
    "datos_post_1976 = españa[españa['year'] > 1976].copy()\n",
    "\n",
    "datos_pre_1976['year'] = datos_pre_1976['year'].astype(int)\n",
    "datos_post_1976['year'] = datos_post_1976['year'].astype(int)\n",
    "\n",
    "datos_pre_1976['crecimiento'] = datos_pre_1976['value'].diff()\n",
    "datos_post_1976['crecimiento'] = datos_post_1976['value'].diff()\n",
    "\n",
    "# Crea los subplots\n",
    "...\n",
    "\n",
    "\n",
    "# Grafica los datos anteriores a 1976\n",
    "...\n",
    "\n",
    "# Grafica los datos posteriores a 1976\n",
    "...\n",
    "\n",
    "# Añadir títulos\n",
    "...\n",
    "\n",
    "# Añadir etiquetas a los ejes\n",
    "...\n",
    "\n",
    "# ADICIONAL: Corregir floats en primera columna\n",
    "...\n",
    "\n",
    "# ADICIONAL: compartir ejes por filas\n",
    "...\n",
    "\n",
    "# Aplica tight_layout() para evitar superposiciones\n",
    "..."
   ]
  },
  {
   "attachments": {},
   "cell_type": "markdown",
   "metadata": {},
   "source": [
    "# Seaborn\n",
    "\n",
    "Seaborn es una librería de visualización construida sobre Matplotlib y muy integrada con Pandas."
   ]
  },
  {
   "cell_type": "code",
   "execution_count": null,
   "metadata": {},
   "outputs": [],
   "source": [
    "# Importaciones\n",
    "import seaborn as sns\n",
    "\n",
    "# Cambiar el estilo por defecto\n",
    "sns.set_theme()"
   ]
  },
  {
   "attachments": {},
   "cell_type": "markdown",
   "metadata": {},
   "source": [
    "<center> <img src=https://raw.githubusercontent.com/jgchaparro/visualizacion_ironhack_19_01_2023/main/img/seaborn_iris.png> </img></center>"
   ]
  },
  {
   "cell_type": "code",
   "execution_count": null,
   "metadata": {},
   "outputs": [],
   "source": [
    "# Importar el conjunto de datos de prueba\n",
    "iris = sns.load_dataset('iris')\n",
    "print(iris['species'].unique())\n",
    "iris.head()"
   ]
  },
  {
   "attachments": {},
   "cell_type": "markdown",
   "metadata": {},
   "source": [
    "## Gráficos de ejes (axis-level) y gráficos de imagen (figure-level)\n",
    "\n",
    "En Seaborn, hay dos tipos de gráficos:\n",
    "* Gráficos de ejes: solo ocupan un eje. Aceptan el argumento `ax` y pueden usarse en subplots. Funcionan como los gráficos de Matplotlib. Representadas en las cajas pequeñas en la imagen.\n",
    "\n",
    "* Gráficos de imagen: ocupan todo el espacio de la imagen. En consecuencia, no aceptan el argumento `ax` y no pueden agruparse en subplots. Contienen todas las funciones de ejes de una categoría, seleccionables a través del parámetro `kind`. Se gestionan a través de un objeto especial, `FacetGrid`. Representadas en las cajas grandes en la imagen. Permiten crear imágenes con múltiples gráficas rápidamente. Similares a sus contrapartidas de eje, pero con algunos cambios. Por ejemplo, la leyenda se coloca fuera de la imagen. \n",
    "    \n",
    "<center> <img src=https://raw.githubusercontent.com/jgchaparro/visualizacion_ironhack_19_01_2023/main/img/seaborn_figure_axis_functions.png> </img></center>\n",
    "\n",
    "Las cajas grandes representan las funciones para generar gráficos de imagen, que contienen las funciones para gráficos de eje, recogidas en las cajas pequeñas.\n",
    "\n",
    "\n"
   ]
  },
  {
   "cell_type": "code",
   "execution_count": null,
   "metadata": {},
   "outputs": [],
   "source": [
    "# Agrupando gráficos de eje\n",
    "fig, axs = plt.subplots(1, 2, figsize = (10, 5))\n",
    "...\n",
    "...\n",
    "fig.tight_layout();"
   ]
  },
  {
   "cell_type": "code",
   "execution_count": null,
   "metadata": {},
   "outputs": [],
   "source": [
    "# Accediendo y modificando gráficos de imagen\n",
    "# Personalización más limitada\n",
    "...\n",
    "fig.set_axis_labels('Largo del pétalo', 'Ancho del pétalo');"
   ]
  },
  {
   "attachments": {},
   "cell_type": "markdown",
   "metadata": {},
   "source": [
    "###  Modificando el tamaño en gráficos de imagen\n",
    "\n",
    "El tamaño de los subplots utiliza los parámetros `height` y `aspect` en lugar de `width` y `height` de Matplotlib. Se mide en pulgadas (1 pulgada = 2,5 cm). \n",
    "\n",
    "El tamaño de la imagen se calcula automáticamente en función del número de subplots y su tamaño.\n"
   ]
  },
  {
   "cell_type": "code",
   "execution_count": null,
   "metadata": {},
   "outputs": [],
   "source": [
    "fig = sns.FacetGrid(iris, col = 'species', height = 6, aspect = 1.5);"
   ]
  },
  {
   "attachments": {},
   "cell_type": "markdown",
   "metadata": {},
   "source": [
    "## Gráficos básicos"
   ]
  },
  {
   "attachments": {},
   "cell_type": "markdown",
   "metadata": {},
   "source": [
    "### Gráfico de línea\n",
    "\n",
    "Si para un punto hay más de una instancia, Seaborn computará automáticamente intervalos de confianza."
   ]
  },
  {
   "cell_type": "code",
   "execution_count": null,
   "metadata": {},
   "outputs": [],
   "source": [
    "..."
   ]
  },
  {
   "attachments": {},
   "cell_type": "markdown",
   "metadata": {},
   "source": [
    "### Gráfico de dispersión (scatterplot)\n",
    "\n",
    "* `hue` («matiz»): separa por colores en función de la variable introducida."
   ]
  },
  {
   "cell_type": "code",
   "execution_count": null,
   "metadata": {},
   "outputs": [],
   "source": [
    "..."
   ]
  },
  {
   "attachments": {},
   "cell_type": "markdown",
   "metadata": {},
   "source": [
    "### Gráfico de regresión (regplot)\n",
    "\n",
    "Similar al gráfico de dispersión, pero añade una regresión lineal."
   ]
  },
  {
   "cell_type": "code",
   "execution_count": null,
   "metadata": {},
   "outputs": [],
   "source": [
    "..."
   ]
  },
  {
   "attachments": {},
   "cell_type": "markdown",
   "metadata": {},
   "source": [
    "### Gráfico de barras\n",
    "\n",
    "* `dodge`: evita separaciones anómalas.\n",
    "\n",
    "La línea negra sobre las barras indica  la media de la variable indicada y su desviación típica."
   ]
  },
  {
   "cell_type": "code",
   "execution_count": null,
   "metadata": {},
   "outputs": [],
   "source": [
    "...\n",
    "fig.set_ylabel('Media del largo del pétalo');"
   ]
  },
  {
   "cell_type": "code",
   "execution_count": null,
   "metadata": {},
   "outputs": [],
   "source": [
    "...\n",
    "\n",
    "fig.set_xlabel('Media del largo del pétalo');"
   ]
  },
  {
   "attachments": {},
   "cell_type": "markdown",
   "metadata": {},
   "source": [
    "### Histogramas\n",
    "\n",
    "- `bins`: número de barras en las que se divide el gráfico. [¿Cómo elegir el número de bins?](https://www.statisticshowto.com/choose-bin-sizes-statistics/)\n",
    "- `kde`: estimación de la distribución subyacente que genera los datos."
   ]
  },
  {
   "cell_type": "code",
   "execution_count": null,
   "metadata": {},
   "outputs": [],
   "source": [
    "..."
   ]
  },
  {
   "cell_type": "code",
   "execution_count": null,
   "metadata": {},
   "outputs": [],
   "source": [
    "# Distinguir según especie\n",
    "...\n"
   ]
  },
  {
   "attachments": {},
   "cell_type": "markdown",
   "metadata": {},
   "source": [
    "### Mapa de calor (heatmap)"
   ]
  },
  {
   "cell_type": "code",
   "execution_count": null,
   "metadata": {},
   "outputs": [],
   "source": [
    "..."
   ]
  },
  {
   "attachments": {},
   "cell_type": "markdown",
   "metadata": {},
   "source": [
    "### Mapa de calor jerarquizado (clustered heatmap)"
   ]
  },
  {
   "cell_type": "code",
   "execution_count": null,
   "metadata": {},
   "outputs": [],
   "source": [
    "sns.clustermap(\n",
    "    data = iris.corr(), # Correlaciones entre variables\n",
    "    annot = True, # Mostrar valores de la tabla. En este caso, las correlaciones\n",
    "    vmin = -1, # Valor máximo\n",
    "    vmax = 1, # Valor mínimo\n",
    "    figsize = (5, 5), # Cambiar tamaño de gráfico\n",
    "    cmap = 'RdBu'\n",
    "    );"
   ]
  },
  {
   "attachments": {},
   "cell_type": "markdown",
   "metadata": {},
   "source": [
    "### Gráfico de cajas (boxplot)"
   ]
  },
  {
   "cell_type": "code",
   "execution_count": null,
   "metadata": {},
   "outputs": [],
   "source": [
    "..."
   ]
  },
  {
   "attachments": {},
   "cell_type": "markdown",
   "metadata": {},
   "source": [
    "### Gráficos de violín (swarmplot)"
   ]
  },
  {
   "cell_type": "code",
   "execution_count": null,
   "metadata": {},
   "outputs": [],
   "source": [
    "..."
   ]
  },
  {
   "attachments": {},
   "cell_type": "markdown",
   "metadata": {},
   "source": [
    "### Gráficos de enjambre (swarmplot)"
   ]
  },
  {
   "cell_type": "code",
   "execution_count": null,
   "metadata": {},
   "outputs": [],
   "source": [
    "..."
   ]
  },
  {
   "cell_type": "markdown",
   "metadata": {},
   "source": [
    "### Stripplot"
   ]
  },
  {
   "cell_type": "code",
   "execution_count": null,
   "metadata": {},
   "outputs": [],
   "source": [
    "# Cambiar a formato largo\n",
    "# especie - variable - valor\n",
    "iris_long = pd.melt(iris, 'species', var_name = 'measurement')\n",
    "iris_long.head()"
   ]
  },
  {
   "cell_type": "code",
   "execution_count": null,
   "metadata": {},
   "outputs": [],
   "source": [
    "..."
   ]
  },
  {
   "attachments": {},
   "cell_type": "markdown",
   "metadata": {},
   "source": [
    "## Gráficos especiales\n",
    "\n",
    "Los `jointplot` y `pairplot` combinan características de gráficos de relación y distribución en un solo gráfico de imagen."
   ]
  },
  {
   "cell_type": "code",
   "execution_count": null,
   "metadata": {},
   "outputs": [],
   "source": [
    "# Jointplot\n",
    "# Util para ver relaciones y distribuciones a la vez\n",
    "..."
   ]
  },
  {
   "cell_type": "code",
   "execution_count": null,
   "metadata": {},
   "outputs": [],
   "source": [
    "# Pairplot\n",
    "..."
   ]
  },
  {
   "attachments": {},
   "cell_type": "markdown",
   "metadata": {},
   "source": [
    "# Paletas de colores\n",
    "\n",
    "Seaborn cuenta con tres tipos de paletas de colores:\n",
    "- Paletas cualitativas: para datos categóricos.\n",
    "- Paletas secuenciales: para datos numéricos.\n",
    "- Paletas divergentes: para datos numéricos con límites o puntos de referencia. "
   ]
  },
  {
   "attachments": {},
   "cell_type": "markdown",
   "metadata": {},
   "source": [
    "## Paletas cualitativas\n",
    "\n",
    "Utilizadas para representar un número limitado de categorías.\n",
    "\n",
    "<center> <img src=https://raw.githubusercontent.com/jgchaparro/visualizacion_ironhack_19_01_2023/main/img/seaborn_qualitative_colormaps.png> </img></center>"
   ]
  },
  {
   "cell_type": "code",
   "execution_count": null,
   "metadata": {},
   "outputs": [],
   "source": [
    "# Usa la paleta 'bright'\n",
    "sns.barplot(x = list(range(1, 9)), y = [1] * 8, palette = 'Dark2');"
   ]
  },
  {
   "attachments": {},
   "cell_type": "markdown",
   "metadata": {},
   "source": [
    "## Paletas secuenciales\n",
    "\n",
    "Contienen una escala continua de valores"
   ]
  },
  {
   "attachments": {},
   "cell_type": "markdown",
   "metadata": {},
   "source": [
    "<center> <img src=https://raw.githubusercontent.com/jgchaparro/visualizacion_ironhack_19_01_2023/main/img/seaborn_sequential_palettes.png> </img></center>"
   ]
  },
  {
   "cell_type": "code",
   "execution_count": null,
   "metadata": {},
   "outputs": [],
   "source": [
    "sns.heatmap(\n",
    "    data = iris.corr(), # Correlación entre métricas\n",
    "    ... # Elegir paleta. Añade '_r' para invertir\n",
    "    );"
   ]
  },
  {
   "attachments": {},
   "cell_type": "markdown",
   "metadata": {},
   "source": [
    "## Paletas divergentes\n",
    "\n",
    "Similares a las continuas, pero con un punto de referencia a partir del cual nacen dos escalas continuas con colores distintos. Basado en el [modelo de color HSL](https://es.wikipedia.org/wiki/Modelo_de_color_HSL), requieren indicar el matiz del color de ambos extremos. Seaborn elegirá automáticamente la saturación y la intensidad. Por defecto, estos son 75 y 50, respectivamente."
   ]
  },
  {
   "cell_type": "code",
   "execution_count": null,
   "metadata": {},
   "outputs": [],
   "source": [
    "sns.diverging_palette(220, 20, as_cmap=True)"
   ]
  },
  {
   "cell_type": "code",
   "execution_count": null,
   "metadata": {},
   "outputs": [],
   "source": [
    "# Parámetros opcionales para las paletas divergentes\n",
    "sns.diverging_palette(\n",
    "    ...\n",
    ")"
   ]
  },
  {
   "cell_type": "markdown",
   "metadata": {},
   "source": [
    "## Casos prácticos para Seaborn"
   ]
  },
  {
   "cell_type": "markdown",
   "metadata": {},
   "source": [
    "#### Vista de los datos"
   ]
  },
  {
   "cell_type": "code",
   "execution_count": null,
   "metadata": {},
   "outputs": [],
   "source": [
    "from plotly.express.data import gapminder\n",
    "data = gapminder()\n",
    "data.head(10)"
   ]
  },
  {
   "attachments": {},
   "cell_type": "markdown",
   "metadata": {},
   "source": [
    "### 1) Grafica el PIB per cápita de España por años con un gráfico de línea en Seaborn\n",
    "\n",
    "- Utiliza la variable `datos`\n",
    "- Añade un título al gráfico y a los ejes horizontal y vertical\n",
    "- Cambia el color de la línea\n",
    "\n",
    "Ejemplo de solución:\n",
    "\n",
    "<center> <img src=https://raw.githubusercontent.com/jgchaparro/visualizacion_ironhack_19_01_2023/main/img/exercise_solutions/seaborn_ex_1.png> </img></center>"
   ]
  },
  {
   "cell_type": "code",
   "execution_count": null,
   "metadata": {},
   "outputs": [],
   "source": [
    "datos = data.query('country == \"Spain\"')\n",
    "\n",
    "..."
   ]
  },
  {
   "attachments": {},
   "cell_type": "markdown",
   "metadata": {},
   "source": [
    "### 2) Grafica la correlacción entre variables con un heatmap en Seaborn\n",
    "\n",
    "- Utiliza la variable `datos`\n",
    "- Utiliza `paleta` como argumento para el parámetro `cmap` del heatmap\n",
    "- Define los parámetros `vmin` y `vmax` como -1 y 1\n",
    "- Muestra la correlación en número dentro de la celda\n",
    "- Tamaño recomendado: (10, 8) \n",
    "\n",
    "Ejemplo de solución:\n",
    "\n",
    "<center> <img src=https://raw.githubusercontent.com/jgchaparro/visualizacion_ironhack_19_01_2023/main/img/exercise_solutions/seaborn_ex_2.png> </img></center>"
   ]
  },
  {
   "cell_type": "code",
   "execution_count": null,
   "metadata": {},
   "outputs": [],
   "source": [
    "datos = data.corr()\n",
    "paleta = sns.diverging_palette(220, 20, as_cmap=True) # Paleta roja y azul\n",
    "\n",
    "..."
   ]
  },
  {
   "attachments": {},
   "cell_type": "markdown",
   "metadata": {},
   "source": [
    "### 3) Grafica la dsitribución de la esperanza de vida en 2007 con Seaborn \n",
    "\n",
    "- Utiliza el tamaño de imagen (5, 5)\n",
    "- Usa 15 bins\n",
    "\n",
    "Ejemplo de solución:\n",
    "\n",
    "<center> <img src=https://raw.githubusercontent.com/jgchaparro/visualizacion_ironhack_19_01_2023/main/img/exercise_solutions/seaborn_ex_3.png> </img></center>"
   ]
  },
  {
   "cell_type": "code",
   "execution_count": null,
   "metadata": {},
   "outputs": [],
   "source": [
    "datos = data.query('year == 2007')\n",
    "\n",
    "..."
   ]
  },
  {
   "attachments": {},
   "cell_type": "markdown",
   "metadata": {},
   "source": [
    "### 4) Grafica la distribución de la esperanza de vida en 2007 separando por continente con Seaborn \n",
    "\n",
    "Tendrás que utilizar el gráfico de imagen `sns.displot`\n",
    "\n",
    "- Utiliza la variable `datos`\n",
    "- Pon cada plot en una columna distinta\n",
    "- Pon un color distinto a cada continente\n",
    "- Prueba a añadir la estimación de la densidad de distribución (`kde`)\n",
    "\n",
    "Ejemplo de solución:\n",
    "\n",
    "<center> <img src=https://raw.githubusercontent.com/jgchaparro/visualizacion_ironhack_19_01_2023/main/img/exercise_solutions/seaborn_ex_4.png> </img></center>"
   ]
  },
  {
   "cell_type": "code",
   "execution_count": null,
   "metadata": {},
   "outputs": [],
   "source": [
    "datos = data.query('year == 2007')\n",
    "\n",
    "..."
   ]
  },
  {
   "attachments": {},
   "cell_type": "markdown",
   "metadata": {},
   "source": [
    "# Plotly Express"
   ]
  },
  {
   "cell_type": "code",
   "execution_count": null,
   "metadata": {},
   "outputs": [],
   "source": [
    "# Importar Plotly\n",
    "import plotly.express as px"
   ]
  },
  {
   "cell_type": "code",
   "execution_count": null,
   "metadata": {},
   "outputs": [],
   "source": [
    "# Obtener datos\n",
    "data = px.data.gapminder()\n",
    "\n",
    "# Crear columna para PIB (GDP)\n",
    "data['gdp'] = data['pop'] * data['gdpPercap']\n",
    "\n",
    "data.head()"
   ]
  },
  {
   "attachments": {},
   "cell_type": "markdown",
   "metadata": {},
   "source": [
    "## Plotly Express vs. Plotly Graph Objects\n",
    "\n",
    "Todos los gráficos de Plotly tienen la estructura de diccionario. El módulo graph_objects contiene todas los objetos individuales de un gráfico. Pueden acumularse unos sobre otros desde sus partes más pequeñas hasta construir la imagen final, como en la siguiente celda."
   ]
  },
  {
   "cell_type": "code",
   "execution_count": null,
   "metadata": {},
   "outputs": [],
   "source": [
    "import plotly.graph_objects as go\n",
    "\n",
    "dict_of_fig = dict({\n",
    "    \"data\": [{\"type\": \"bar\",\n",
    "              \"x\": [1, 2, 3],\n",
    "              \"y\": [1, 3, 2]}],\n",
    "    \"layout\": {\"title\": {\"text\": \"Gráfico construido con objetos individuales\"}}\n",
    "})\n",
    "\n",
    "fig = go.Figure(dict_of_fig)\n",
    "\n",
    "fig.show()"
   ]
  },
  {
   "attachments": {},
   "cell_type": "markdown",
   "metadata": {},
   "source": [
    "Por su parte, Plotly Express permite crear gráficos rápidamente indicando solo algunos datos y dando valores por defecto al resto de características.\n",
    "\n",
    "Se recomienda utilizar Plotly Express para generar las imágenes y, después, modificar los objetos individuales que generan el gráfico."
   ]
  },
  {
   "cell_type": "code",
   "execution_count": null,
   "metadata": {},
   "outputs": [],
   "source": [
    "# Crear objeto con Express\n",
    "...\n",
    "\n",
    "# Cambiar etiqueta del eje Y\n",
    "..."
   ]
  },
  {
   "cell_type": "code",
   "execution_count": null,
   "metadata": {},
   "outputs": [],
   "source": [
    "fig['layout']"
   ]
  },
  {
   "attachments": {},
   "cell_type": "markdown",
   "metadata": {},
   "source": [
    "## Gráficos en Plotly"
   ]
  },
  {
   "cell_type": "markdown",
   "metadata": {},
   "source": [
    "### Gráfico de linea"
   ]
  },
  {
   "cell_type": "code",
   "execution_count": null,
   "metadata": {},
   "outputs": [],
   "source": [
    "...\n",
    "\n",
    "fig.show()"
   ]
  },
  {
   "attachments": {},
   "cell_type": "markdown",
   "metadata": {},
   "source": [
    "#### Personalizando el gráfico\n",
    "\n",
    "* **Tamaño**: a diferencia de Matplotlib y Seaborn, en Plotly puede indicarse el tamaño directamente al crear la imagen con los parámetros `width` y `height`.\n",
    "  \n",
    "* **Etiquetas**: requiere un diccionario que indique con qué términos se deben reemplazar los valores por defecto.\n",
    "  \n",
    "* **Color**: dos métodos:\n",
    "  * `color_discrete_sequence`: asigna colores en función del orden en el que aparecen los datos.\n",
    "  * `color_discrete_map`: asigna colores directamente uno a uno.\n"
   ]
  },
  {
   "cell_type": "code",
   "execution_count": null,
   "metadata": {},
   "outputs": [],
   "source": [
    "# Personalizando el gráfico\n",
    "..."
   ]
  },
  {
   "cell_type": "markdown",
   "metadata": {},
   "source": [
    "### Gráfico de barras"
   ]
  },
  {
   "cell_type": "code",
   "execution_count": null,
   "metadata": {},
   "outputs": [],
   "source": [
    "..."
   ]
  },
  {
   "attachments": {},
   "cell_type": "markdown",
   "metadata": {},
   "source": [
    "### Gráfico de área"
   ]
  },
  {
   "cell_type": "code",
   "execution_count": null,
   "metadata": {},
   "outputs": [],
   "source": [
    "..."
   ]
  },
  {
   "attachments": {},
   "cell_type": "markdown",
   "metadata": {},
   "source": [
    "### Gráficos de caja"
   ]
  },
  {
   "cell_type": "code",
   "execution_count": null,
   "metadata": {},
   "outputs": [],
   "source": [
    "..."
   ]
  },
  {
   "cell_type": "markdown",
   "metadata": {},
   "source": [
    "### Gráfico de dispersión (scattermap)"
   ]
  },
  {
   "cell_type": "code",
   "execution_count": null,
   "metadata": {},
   "outputs": [],
   "source": [
    "..."
   ]
  },
  {
   "attachments": {},
   "cell_type": "markdown",
   "metadata": {},
   "source": [
    "### Gráfico circular (piechart)"
   ]
  },
  {
   "cell_type": "code",
   "execution_count": null,
   "metadata": {},
   "outputs": [],
   "source": [
    "..."
   ]
  },
  {
   "cell_type": "markdown",
   "metadata": {},
   "source": [
    "### Treemap"
   ]
  },
  {
   "cell_type": "code",
   "execution_count": null,
   "metadata": {},
   "outputs": [],
   "source": [
    "..."
   ]
  },
  {
   "cell_type": "markdown",
   "metadata": {},
   "source": [
    "### Sunburst"
   ]
  },
  {
   "cell_type": "code",
   "execution_count": null,
   "metadata": {},
   "outputs": [],
   "source": [
    "..."
   ]
  },
  {
   "cell_type": "markdown",
   "metadata": {},
   "source": [
    "### Animaciones"
   ]
  },
  {
   "cell_type": "code",
   "execution_count": null,
   "metadata": {},
   "outputs": [],
   "source": [
    "px.scatter(\n",
    "    data,\n",
    "    x = 'pop',\n",
    "    log_x = True,\n",
    "    y = 'lifeExp',\n",
    "    range_y = [30, 85],\n",
    "    color = 'continent',\n",
    "    hover_name = 'country',\n",
    "    facet_col= 'continent',\n",
    "\n",
    "    # Parámetros para animar\n",
    "    ...\n",
    "\n",
    "\n",
    "    )"
   ]
  },
  {
   "cell_type": "code",
   "execution_count": null,
   "metadata": {},
   "outputs": [],
   "source": [
    "px.bar(\n",
    "    data, \n",
    "    x = \"continent\", \n",
    "    y=\"pop\", range_y=[0,4000000000],\n",
    "    color=\"continent\",\n",
    "\n",
    "  ...\n",
    ")"
   ]
  },
  {
   "cell_type": "markdown",
   "metadata": {},
   "source": [
    "## Casos prácticos para Plotly"
   ]
  },
  {
   "attachments": {},
   "cell_type": "markdown",
   "metadata": {},
   "source": [
    "### 1) Grafica el PIB per cápita de Alemania por años con un gráfico de barras (barplot) en Plotly\n",
    "\n",
    "* Utiliza la variable `datos`\n",
    "* Añade un título\n",
    "* Cambia las etiquetas de los ejes horizontal y vertical\n",
    "* Centra el título del gráfico \n",
    "\n",
    "Ejemplo de solución:\n",
    "\n",
    "<center> <img src=https://raw.githubusercontent.com/jgchaparro/visualizacion_ironhack_19_01_2023/main/img/exercise_solutions/plotly_ex_1.png> </img></center>"
   ]
  },
  {
   "cell_type": "code",
   "execution_count": null,
   "metadata": {},
   "outputs": [],
   "source": [
    "datos = data.query('country == \"Germany\"')\n",
    "\n",
    "..."
   ]
  },
  {
   "attachments": {},
   "cell_type": "markdown",
   "metadata": {},
   "source": [
    "### 2) Grafica la distribución de la esperanza de vida por continente en 2007 con un gráfico de cajas (boxplot) en Plotly\n",
    "\n",
    "- Cambia las etiquetas de los ejes horizontal y vertical\n",
    "- Pon un color distinto a cada continente\n",
    "\n",
    "Ejemplo de solución:\n",
    "\n",
    "<center> <img src=https://raw.githubusercontent.com/jgchaparro/visualizacion_ironhack_19_01_2023/main/img/exercise_solutions/plotly_ex_2.png> </img></center>"
   ]
  },
  {
   "cell_type": "code",
   "execution_count": null,
   "metadata": {},
   "outputs": [],
   "source": [
    "datos = data.query('year == 2007')\n",
    "\n",
    "..."
   ]
  },
  {
   "attachments": {},
   "cell_type": "markdown",
   "metadata": {},
   "source": [
    "#### 3) Añade una animación al gráfico anterior\n",
    "\n",
    "- Utiliza la variable `datos`, que contiene datos históricos\n",
    "- Limita el rango del eje Y a 30 y 90\n",
    " \n",
    " Ejemplo de solución:\n",
    "\n",
    " <center> <img src=https://raw.githubusercontent.com/jgchaparro/visualizacion_ironhack_19_01_2023/main/img/exercise_solutions/plotly_ex_3_corrected.png> </img></center>"
   ]
  },
  {
   "cell_type": "code",
   "execution_count": null,
   "metadata": {},
   "outputs": [],
   "source": [
    "datos = data\n",
    "\n",
    "..."
   ]
  },
  {
   "attachments": {},
   "cell_type": "markdown",
   "metadata": {},
   "source": [
    "# Missingno\n",
    "\n",
    "Missingno es una librería orientada al análisis visual de datos faltantes. Muy útil en las etapas iniciales de los análisis.\n",
    "\n",
    "Para esta demo, utilizaremos los datos de Gapminder que ofrece Plotly"
   ]
  },
  {
   "cell_type": "code",
   "execution_count": null,
   "metadata": {},
   "outputs": [],
   "source": [
    "# Importaciones\n",
    "!pip install missingno\n",
    "import missingno as msno"
   ]
  },
  {
   "cell_type": "code",
   "execution_count": null,
   "metadata": {},
   "outputs": [],
   "source": [
    "# Cargar datos desde Plotly\n",
    "# Obtener datos\n",
    "data = px.data.gapminder()\n",
    "\n",
    "# Crear columna para PIB (GDP)\n",
    "data['gdp'] = data['pop'] * data['gdpPercap']\n",
    "\n",
    "data.head()"
   ]
  },
  {
   "cell_type": "code",
   "execution_count": null,
   "metadata": {},
   "outputs": [],
   "source": [
    "# Pasar los datos a formato ancho\n",
    "data_ancho = pd.pivot(data, index = 'country', columns = 'year', values = 'gdpPercap')\n",
    "data_ancho.head(10)"
   ]
  },
  {
   "cell_type": "code",
   "execution_count": null,
   "metadata": {},
   "outputs": [],
   "source": [
    "# Detectar nulos en data_ancho\n",
    "..."
   ]
  },
  {
   "cell_type": "code",
   "execution_count": null,
   "metadata": {},
   "outputs": [],
   "source": [
    "# Eliminar algunos datos en data_ancho\n",
    "data_ancho.iloc[23:41, 3:7] = np.nan\n",
    "data_ancho.iloc[102:109, 6:9] = np.nan"
   ]
  },
  {
   "attachments": {},
   "cell_type": "markdown",
   "metadata": {},
   "source": [
    "En Missingno, las celdas con datos no nulos se marcan en negro. Si hay datos faltantes, aparecen en blanco,\n",
    "La línea de la derecha indica en número de celdas con datos válidos en cada fila. Los números indican las filas con la máxima y mínima cantidad de datos válidos."
   ]
  },
  {
   "cell_type": "code",
   "execution_count": null,
   "metadata": {},
   "outputs": [],
   "source": [
    "# Detectar nulos en data_ancho\n",
    "..."
   ]
  },
  {
   "cell_type": "markdown",
   "metadata": {},
   "source": [
    "También puede verse fácilmente a través del gráfico de barras."
   ]
  },
  {
   "cell_type": "code",
   "execution_count": null,
   "metadata": {},
   "outputs": [],
   "source": [
    "..."
   ]
  },
  {
   "attachments": {},
   "cell_type": "markdown",
   "metadata": {},
   "source": [
    "En ocasiones y si el estudio lo permite, ordenar las filas en función del número de nulos ayuda a detectar\n",
    "patrones. Esto puede lograrse fácilmente con la siguiente función:"
   ]
  },
  {
   "cell_type": "code",
   "execution_count": null,
   "metadata": {},
   "outputs": [],
   "source": [
    "def msno_matriz_ordenada(datos):\n",
    "\n",
    "  # Ordenar los datos según número de nulos\n",
    "  indices_filas_nulos = datos.isnull().sum(axis = 1).sort_values(ascending = False).index\n",
    "  indices_columnas_nulos = datos.isnull().sum(axis = 0).sort_values(ascending = False).index\n",
    "  datos_ordenados_nans = datos.loc[indices_filas_nulos, indices_columnas_nulos]\n",
    "\n",
    "  # Generar matriz final\n",
    "  matriz = msno.matrix(datos_ordenados_nans, figsize = (15, 7))\n",
    "  return matriz\n",
    "\n",
    "msno_matriz_ordenada(data_ancho);"
   ]
  },
  {
   "attachments": {},
   "cell_type": "markdown",
   "metadata": {},
   "source": [
    "El dendograma describe las relaciones entre los datos faltantes. En este caso, vemos que une en un mismo grupo todas las columnas sin datos faltantes, y separa en tres los restantes: dos para los que solo carecen de un dato y otro extra para 1982, que contiene dos nulos. "
   ]
  },
  {
   "cell_type": "code",
   "execution_count": null,
   "metadata": {},
   "outputs": [],
   "source": [
    "..."
   ]
  },
  {
   "attachments": {},
   "cell_type": "markdown",
   "metadata": {},
   "source": [
    "El mapa de calor (heatmap) muestra la correlación entre los **datos faltantes**, no entre el valor de las celdas en sí: \n",
    "* 1 indica que si un dato está presente en una columna, estará también en otra la otra columna.\n",
    "* -1 indica que si un dato no está en una columna, sí estará en la otra columna, y viceversa."
   ]
  },
  {
   "cell_type": "code",
   "execution_count": null,
   "metadata": {},
   "outputs": [],
   "source": [
    "..."
   ]
  },
  {
   "attachments": {},
   "cell_type": "markdown",
   "metadata": {},
   "source": [
    "# Enlaces de interés"
   ]
  },
  {
   "cell_type": "markdown",
   "metadata": {},
   "source": [
    "### Matplotlib\n",
    "\n",
    "- [Programación explícita frente a implícita](https://matplotlib.org/stable/users/explain/api_interfaces.html#api-interfaces)\n",
    "- [Cheatsheets para Matplotlib](https://matplotlib.org/cheatsheets/)\n",
    "- [Selector de códigos hexadecimales para colores](https://htmlcolorcodes.com/es/)\n",
    "- [Argumentos para texto en Matplotlib](https://matplotlib.org/stable/api/text_api.html#matplotlib.text.Text)"
   ]
  },
  {
   "attachments": {},
   "cell_type": "markdown",
   "metadata": {},
   "source": [
    "### Seaborn\n",
    "* [Galería de ejemplos de Seaborn](https://seaborn.pydata.org/examples/index.html)\n",
    "* [Selector de colores HSL](https://www.w3schools.com/colors/colors_hsl.asp)"
   ]
  },
  {
   "attachments": {},
   "cell_type": "markdown",
   "metadata": {},
   "source": [
    "### Plotly\n",
    "\n",
    "* [Introducción a Plotly Express](https://plotly.com/python/plotly-express/)\n",
    "* [Documentación de Plotly](https://plotly.com/python-api-reference/)\n",
    "* [Galería de ejemplos de Plotly](https://plotly.com/python/)"
   ]
  },
  {
   "attachments": {},
   "cell_type": "markdown",
   "metadata": {},
   "source": [
    "### Missingno\n",
    "\n",
    "* [Repositorio original y documentación de Missingno](https://github.com/ResidentMario/missingno)"
   ]
  }
 ],
 "metadata": {
  "kernelspec": {
   "display_name": "Python 3",
   "language": "python",
   "name": "python3"
  },
  "language_info": {
   "codemirror_mode": {
    "name": "ipython",
    "version": 3
   },
   "file_extension": ".py",
   "mimetype": "text/x-python",
   "name": "python",
   "nbconvert_exporter": "python",
   "pygments_lexer": "ipython3",
   "version": "3.9.7"
  },
  "orig_nbformat": 4,
  "vscode": {
   "interpreter": {
    "hash": "e570f9b335c1a791fe2cbb2552bc08c6e4dc410c514c87d189c872b38b29f491"
   }
  }
 },
 "nbformat": 4,
 "nbformat_minor": 2
}
